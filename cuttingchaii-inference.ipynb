{
 "cells": [
  {
   "cell_type": "code",
   "execution_count": 1,
   "id": "11222a3e",
   "metadata": {
    "execution": {
     "iopub.execute_input": "2021-11-14T16:56:30.029319Z",
     "iopub.status.busy": "2021-11-14T16:56:30.027803Z",
     "iopub.status.idle": "2021-11-14T16:56:36.937956Z",
     "shell.execute_reply": "2021-11-14T16:56:36.937327Z",
     "shell.execute_reply.started": "2021-11-14T16:52:41.866429Z"
    },
    "papermill": {
     "duration": 6.928967,
     "end_time": "2021-11-14T16:56:36.938113",
     "exception": false,
     "start_time": "2021-11-14T16:56:30.009146",
     "status": "completed"
    },
    "tags": []
   },
   "outputs": [],
   "source": [
    "import pandas as pd\n",
    "import numpy as np\n",
    "import transformers\n",
    "from transformers import AutoTokenizer\n",
    "from datasets import Dataset\n",
    "from transformers import AutoModelForQuestionAnswering, TrainingArguments, Trainer\n",
    "from transformers import default_data_collator"
   ]
  },
  {
   "cell_type": "code",
   "execution_count": 2,
   "id": "01924e9d",
   "metadata": {
    "execution": {
     "iopub.execute_input": "2021-11-14T16:56:36.966808Z",
     "iopub.status.busy": "2021-11-14T16:56:36.966206Z",
     "iopub.status.idle": "2021-11-14T16:56:36.986890Z",
     "shell.execute_reply": "2021-11-14T16:56:36.986009Z",
     "shell.execute_reply.started": "2021-11-14T16:52:49.757094Z"
    },
    "papermill": {
     "duration": 0.036427,
     "end_time": "2021-11-14T16:56:36.987020",
     "exception": false,
     "start_time": "2021-11-14T16:56:36.950593",
     "status": "completed"
    },
    "tags": []
   },
   "outputs": [],
   "source": [
    "sub_data=pd.read_csv('../input/chaii-hindi-and-tamil-question-answering/sample_submission.csv')\n",
    "test=pd.read_csv('../input/chaii-hindi-and-tamil-question-answering/test.csv')"
   ]
  },
  {
   "cell_type": "code",
   "execution_count": 3,
   "id": "804dbd26",
   "metadata": {
    "execution": {
     "iopub.execute_input": "2021-11-14T16:56:37.014314Z",
     "iopub.status.busy": "2021-11-14T16:56:37.013738Z",
     "iopub.status.idle": "2021-11-14T16:56:38.657559Z",
     "shell.execute_reply": "2021-11-14T16:56:38.658027Z",
     "shell.execute_reply.started": "2021-11-14T16:52:54.177535Z"
    },
    "papermill": {
     "duration": 1.659331,
     "end_time": "2021-11-14T16:56:38.658202",
     "exception": false,
     "start_time": "2021-11-14T16:56:36.998871",
     "status": "completed"
    },
    "tags": []
   },
   "outputs": [],
   "source": [
    "# model_name = \"../input/huggingface-question-answering-models/multilingual/xlm-roberta-large-squad2\"\n",
    "model_name = \"../input/greenchaii/extra-chaii-2021\"\n",
    "tokenizer = AutoTokenizer.from_pretrained(model_name)"
   ]
  },
  {
   "cell_type": "code",
   "execution_count": 4,
   "id": "23f7a76b",
   "metadata": {
    "execution": {
     "iopub.execute_input": "2021-11-14T16:56:38.698937Z",
     "iopub.status.busy": "2021-11-14T16:56:38.697270Z",
     "iopub.status.idle": "2021-11-14T16:56:38.699517Z",
     "shell.execute_reply": "2021-11-14T16:56:38.699949Z",
     "shell.execute_reply.started": "2021-11-14T16:55:08.181261Z"
    },
    "papermill": {
     "duration": 0.029866,
     "end_time": "2021-11-14T16:56:38.700080",
     "exception": false,
     "start_time": "2021-11-14T16:56:38.670214",
     "status": "completed"
    },
    "tags": []
   },
   "outputs": [],
   "source": [
    "max_length = 380\n",
    "doc_stride = 128\n",
    "\n",
    "def get_train_features(examples):\n",
    "\n",
    "    tokenized_examples=tokenizer(examples[\"question\"],examples[\"context\"],truncation=True, max_length=max_length,stride=doc_stride, return_overflowing_tokens=True, return_offsets_mapping=True,padding=\"max_length\",)\n",
    "\n",
    "    overflow_to_sample_mapping = tokenized_examples[\"overflow_to_sample_mapping\"]\n",
    "    offset_mapping = tokenized_examples[\"offset_mapping\"]\n",
    "#     input_ids = tokenized_examples[\"input_ids\"]\n",
    "#     attention_masks = tokenized_example[\"attention_mask\"]\n",
    "    answer = examples[\"answer_text\"]\n",
    "    answer_start = examples[\"answer_start\"]\n",
    "    answer_end = examples[\"answer_end\"]\n",
    "\n",
    "    start_positions = []\n",
    "    end_positions = []\n",
    "\n",
    "    example_wise_features = []\n",
    "    for i in range(len(offset_mapping)):\n",
    "        temp_feature = {}\n",
    "        \n",
    "        temp_feature[\"input_ids\"] = tokenized_examples[\"input_ids\"][i]\n",
    "        temp_feature[\"attention_mask\"] = tokenized_examples[\"attention_mask\"][i]\n",
    "        temp_feature[\"offset_mapping\"] = offset_mapping[i]\n",
    "        \n",
    "#         input_encodings = input_ids[i]\n",
    "        sequence_ids = tokenized_examples.sequence_ids(i)\n",
    "        CLS = tokenized_examples[\"input_ids\"][i].index(tokenizer.cls_token_id)\n",
    "\n",
    "        input_index = overflow_to_sample_mapping[i]\n",
    "        answer_text = answer\n",
    "\n",
    "        if answer_text is None:\n",
    "            temp_feature[\"start_positions\"] = CLS\n",
    "            temp_feature[\"end_positions\"] = CLS\n",
    "\n",
    "        else:\n",
    "            context_start = sequence_ids.index(1)\n",
    "            context_end = len(sequence_ids) - sequence_ids[::-1].index(1) - 1\n",
    "\n",
    "            if offset_mapping[i][context_start][0] > answer_start or offset_mapping[i][context_end][1] < answer_end:\n",
    "                temp_feature[\"start_positions\"] = CLS\n",
    "                temp_feature[\"end_positions\"] = CLS\n",
    "            else:\n",
    "                while context_start < len(offset_mapping[i]) and offset_mapping[i][context_start][0] <= answer_start:\n",
    "                    context_start += 1\n",
    "                while offset_mapping[i][context_end][1] >= answer_end:\n",
    "                    context_end -= 1\n",
    "\n",
    "                temp_feature[\"start_positions\"] = context_start - 1\n",
    "                temp_feature[\"end_positions\"] = context_start + 1\n",
    "        \n",
    "        example_wise_features.append(temp_feature)\n",
    "    return example_wise_features\n",
    "\n",
    "\n",
    "def get_test_features(examples):\n",
    "    tokenized_examples=tokenizer(examples[\"question\"],examples[\"context\"],truncation=True,\\\n",
    "                                 max_length=max_length,stride=doc_stride, return_overflowing_tokens=True,\\\n",
    "                                 return_offsets_mapping=True,padding=\"max_length\",)\n",
    "    all_features_per_example = []\n",
    "    data_keys = ['id','context','question']\n",
    "    tokenised_data_keys = ['input_ids','attention_mask','offset_mapping']\n",
    "    for i in range(len(tokenized_examples[\"input_ids\"])):\n",
    "        feature = {}\n",
    "        for key in data_keys:\n",
    "            feature.update({key : examples[key]})\n",
    "        for key in tokenised_data_keys:\n",
    "            feature.update({key : tokenized_examples[key][i]})\n",
    "#         feature = {key : examples[key] for key in data_keys}\n",
    "#         feature = {key : tokenized_examples[key] for key in tokenised_data_keys}\n",
    "        feature.update({\"sequence_ids\" : [0 if j is None else j for j in tokenized_examples.sequence_ids(i)]})\n",
    "        all_features_per_example.append(feature)\n",
    "    return all_features_per_example"
   ]
  },
  {
   "cell_type": "code",
   "execution_count": 5,
   "id": "61de9d49",
   "metadata": {
    "execution": {
     "iopub.execute_input": "2021-11-14T16:56:38.730927Z",
     "iopub.status.busy": "2021-11-14T16:56:38.730194Z",
     "iopub.status.idle": "2021-11-14T16:56:38.732292Z",
     "shell.execute_reply": "2021-11-14T16:56:38.732662Z",
     "shell.execute_reply.started": "2021-11-14T16:54:27.872487Z"
    },
    "papermill": {
     "duration": 0.021434,
     "end_time": "2021-11-14T16:56:38.732808",
     "exception": false,
     "start_time": "2021-11-14T16:56:38.711374",
     "status": "completed"
    },
    "tags": []
   },
   "outputs": [],
   "source": [
    "import torch\n",
    "\n",
    "class ChaiiDataset(torch.utils.data.Dataset):\n",
    "    def __init__(self, encodings, run_type=\"train\"):\n",
    "        super(ChaiiDataset, self).__init__()\n",
    "        self.input_data = encodings\n",
    "        self.run_type = run_type\n",
    "#         self.train_keys = ['input_ids','attention_mask','offset_mapping','start_position','end_position']\n",
    "        self.train_keys = ['input_ids','attention_mask','start_positions','end_positions']\n",
    "        self.test_keys = ['input_ids','attention_mask','id','context','question']\n",
    "\n",
    "    def __getitem__(self, idx):\n",
    "        if self.run_type==\"train\":\n",
    "            return {key: torch.tensor(self.input_data[idx][key]) for key in self.train_keys}\n",
    "        elif self.run_type==\"test\":\n",
    "            res = {}\n",
    "#             print(self.input_data[idx].keys())\n",
    "            for key in self.test_keys:\n",
    "                if key in ['input_ids','attention_mask']:\n",
    "                    res.update({key: torch.tensor(self.input_data[idx][key])})\n",
    "                else:\n",
    "                    res.update({key: self.input_data[idx][key]})\n",
    "            return res\n",
    "\n",
    "    def __len__(self):\n",
    "        return len(self.input_data)"
   ]
  },
  {
   "cell_type": "code",
   "execution_count": 6,
   "id": "8328cdda",
   "metadata": {
    "execution": {
     "iopub.execute_input": "2021-11-14T16:56:38.769409Z",
     "iopub.status.busy": "2021-11-14T16:56:38.768549Z",
     "iopub.status.idle": "2021-11-14T16:56:38.772072Z",
     "shell.execute_reply": "2021-11-14T16:56:38.771330Z",
     "shell.execute_reply.started": "2021-11-14T16:54:28.163650Z"
    },
    "papermill": {
     "duration": 0.027938,
     "end_time": "2021-11-14T16:56:38.772181",
     "exception": false,
     "start_time": "2021-11-14T16:56:38.744243",
     "status": "completed"
    },
    "tags": []
   },
   "outputs": [],
   "source": [
    "import collections\n",
    "\n",
    "def postprocess_qa_predictions(examples, features, all_start_logits, all_end_logits, n_best_size = 20, max_answer_length = 30):\n",
    "    \n",
    "    print(\"Started Post-processing\")\n",
    "    \n",
    "    example_id_to_index = {k: i for i, k in enumerate(examples[\"id\"])}\n",
    "\n",
    "    features_per_example = {}\n",
    "    for i, feature in enumerate(features):\n",
    "        if example_id_to_index[feature[\"id\"]] in features_per_example:\n",
    "            features_per_example[example_id_to_index[feature[\"id\"]]].append(i)\n",
    "        else:\n",
    "            features_per_example[example_id_to_index[feature[\"id\"]]] = [i]\n",
    "\n",
    "    predictions = {}\n",
    "    for example_index, example in examples.iterrows():\n",
    "        feature_indices = features_per_example[example_id_to_index[example[\"id\"]]]\n",
    "\n",
    "        possible_answers = list()\n",
    "        context = example[\"context\"]\n",
    "        for feature_index in feature_indices:\n",
    "            start_logits = all_start_logits[feature_index]\n",
    "            end_logits = all_end_logits[feature_index]\n",
    "\n",
    "            sequence_ids = features[feature_index][\"sequence_ids\"]\n",
    "            context_index = 1\n",
    "            updated_offset_mappings = []\n",
    "            for idx, offset in enumerate(features[feature_index][\"offset_mapping\"]):\n",
    "                if sequence_ids[idx] == 1:\n",
    "                    updated_offset_mappings.append(offset)\n",
    "                else:\n",
    "                    updated_offset_mappings.append(None)\n",
    "                    \n",
    "            cls_index = features[feature_index][\"input_ids\"].index(tokenizer.cls_token_id)\n",
    "            \n",
    "            start_indexes = np.argsort(start_logits)[-1 : -n_best_size - 1 : -1].tolist()\n",
    "            end_indexes = np.argsort(end_logits)[-1 : -n_best_size - 1 : -1].tolist()\n",
    "            for start_index in start_indexes:\n",
    "                for end_index in end_indexes:\n",
    "                    if (start_index >= len(updated_offset_mappings) or end_index >= len(updated_offset_mappings) or\\\n",
    "                        updated_offset_mappings[start_index] is None or updated_offset_mappings[end_index] is None or\\\n",
    "                        end_index < start_index or end_index - start_index >= max_answer_length):\n",
    "                        continue\n",
    "\n",
    "                    start_char = updated_offset_mappings[start_index][0]\n",
    "                    end_char = updated_offset_mappings[end_index][1]\n",
    "                    possible_answers.append((start_logits[start_index] + end_logits[end_index], context[start_char: end_char]))\n",
    "        \n",
    "        if(len(possible_answers) > 0):\n",
    "            best_answer = sorted(possible_answers, key=lambda x: x[0], reverse=True)[0]\n",
    "        else:\n",
    "            best_answer = (0.0,\"\")\n",
    "        \n",
    "        predictions.update({example[\"id\"] : best_answer[1]})\n",
    "        \n",
    "    return predictions"
   ]
  },
  {
   "cell_type": "code",
   "execution_count": 7,
   "id": "7e78e599",
   "metadata": {
    "execution": {
     "iopub.execute_input": "2021-11-14T16:56:38.805622Z",
     "iopub.status.busy": "2021-11-14T16:56:38.804851Z",
     "iopub.status.idle": "2021-11-14T16:56:39.043078Z",
     "shell.execute_reply": "2021-11-14T16:56:39.043552Z",
     "shell.execute_reply.started": "2021-11-14T16:54:28.416088Z"
    },
    "papermill": {
     "duration": 0.259271,
     "end_time": "2021-11-14T16:56:39.043706",
     "exception": false,
     "start_time": "2021-11-14T16:56:38.784435",
     "status": "completed"
    },
    "tags": []
   },
   "outputs": [],
   "source": [
    "test_features = []\n",
    "for i, row in test.iterrows():\n",
    "    test_features.extend(get_test_features(row))\n",
    "\n",
    "test_dataset = ChaiiDataset(test_features, run_type='test')"
   ]
  },
  {
   "cell_type": "code",
   "execution_count": 8,
   "id": "e9da74a1",
   "metadata": {
    "execution": {
     "iopub.execute_input": "2021-11-14T16:56:39.071711Z",
     "iopub.status.busy": "2021-11-14T16:56:39.070738Z",
     "iopub.status.idle": "2021-11-14T16:57:13.790477Z",
     "shell.execute_reply": "2021-11-14T16:57:13.791090Z",
     "shell.execute_reply.started": "2021-11-14T16:54:28.778772Z"
    },
    "papermill": {
     "duration": 34.735801,
     "end_time": "2021-11-14T16:57:13.791289",
     "exception": false,
     "start_time": "2021-11-14T16:56:39.055488",
     "status": "completed"
    },
    "tags": []
   },
   "outputs": [
    {
     "name": "stdout",
     "output_type": "stream",
     "text": [
      "huggingface/tokenizers: The current process just got forked, after parallelism has already been used. Disabling parallelism to avoid deadlocks...\n",
      "To disable this warning, you can either:\n",
      "\t- Avoid using `tokenizers` before the fork if possible\n",
      "\t- Explicitly set the environment variable TOKENIZERS_PARALLELISM=(true | false)\n",
      "huggingface/tokenizers: The current process just got forked, after parallelism has already been used. Disabling parallelism to avoid deadlocks...\n",
      "To disable this warning, you can either:\n",
      "\t- Avoid using `tokenizers` before the fork if possible\n",
      "\t- Explicitly set the environment variable TOKENIZERS_PARALLELISM=(true | false)\n",
      "huggingface/tokenizers: The current process just got forked, after parallelism has already been used. Disabling parallelism to avoid deadlocks...\n",
      "To disable this warning, you can either:\n",
      "\t- Avoid using `tokenizers` before the fork if possible\n",
      "\t- Explicitly set the environment variable TOKENIZERS_PARALLELISM=(true | false)\n"
     ]
    }
   ],
   "source": [
    "# trained_model = AutoModelForQuestionAnswering.from_pretrained(\"./chaii-qa/checkpoint-36\")\n",
    "trained_model = AutoModelForQuestionAnswering.from_pretrained(model_name)\n",
    "pred_model = Trainer(trained_model)"
   ]
  },
  {
   "cell_type": "code",
   "execution_count": 9,
   "id": "8a416ae3",
   "metadata": {
    "execution": {
     "iopub.execute_input": "2021-11-14T16:57:13.985151Z",
     "iopub.status.busy": "2021-11-14T16:57:13.984431Z",
     "iopub.status.idle": "2021-11-14T16:57:17.974164Z",
     "shell.execute_reply": "2021-11-14T16:57:17.974589Z",
     "shell.execute_reply.started": "2021-11-14T16:54:43.342803Z"
    },
    "papermill": {
     "duration": 4.170825,
     "end_time": "2021-11-14T16:57:17.974765",
     "exception": false,
     "start_time": "2021-11-14T16:57:13.803940",
     "status": "completed"
    },
    "tags": []
   },
   "outputs": [
    {
     "data": {
      "text/html": [
       "\n",
       "    <div>\n",
       "        <style>\n",
       "            /* Turns off some styling */\n",
       "            progress {\n",
       "                /* gets rid of default border in Firefox and Opera. */\n",
       "                border: none;\n",
       "                /* Needs to be in here for Safari polyfill so background images work as expected. */\n",
       "                background-size: auto;\n",
       "            }\n",
       "        </style>\n",
       "      \n",
       "      <progress value='9' max='9' style='width:300px; height:20px; vertical-align: middle;'></progress>\n",
       "      [9/9 00:02]\n",
       "    </div>\n",
       "    "
      ],
      "text/plain": [
       "<IPython.core.display.HTML object>"
      ]
     },
     "metadata": {},
     "output_type": "display_data"
    }
   ],
   "source": [
    "raw_predictions = pred_model.predict(test_dataset)"
   ]
  },
  {
   "cell_type": "code",
   "execution_count": 10,
   "id": "d08242c1",
   "metadata": {
    "execution": {
     "iopub.execute_input": "2021-11-14T16:57:18.005541Z",
     "iopub.status.busy": "2021-11-14T16:57:18.003221Z",
     "iopub.status.idle": "2021-11-14T16:57:18.224449Z",
     "shell.execute_reply": "2021-11-14T16:57:18.223963Z",
     "shell.execute_reply.started": "2021-11-14T16:54:46.587510Z"
    },
    "papermill": {
     "duration": 0.236096,
     "end_time": "2021-11-14T16:57:18.224567",
     "exception": false,
     "start_time": "2021-11-14T16:57:17.988471",
     "status": "completed"
    },
    "tags": []
   },
   "outputs": [],
   "source": [
    "test_features = []\n",
    "for i, row in test.iterrows():\n",
    "    test_features.extend(get_test_features(row))"
   ]
  },
  {
   "cell_type": "code",
   "execution_count": 11,
   "id": "d6f69d89",
   "metadata": {
    "execution": {
     "iopub.execute_input": "2021-11-14T16:57:18.259030Z",
     "iopub.status.busy": "2021-11-14T16:57:18.257672Z",
     "iopub.status.idle": "2021-11-14T16:57:18.287413Z",
     "shell.execute_reply": "2021-11-14T16:57:18.287889Z",
     "shell.execute_reply.started": "2021-11-14T16:54:46.810664Z"
    },
    "papermill": {
     "duration": 0.050866,
     "end_time": "2021-11-14T16:57:18.288040",
     "exception": false,
     "start_time": "2021-11-14T16:57:18.237174",
     "status": "completed"
    },
    "tags": []
   },
   "outputs": [
    {
     "name": "stdout",
     "output_type": "stream",
     "text": [
      "Started Post-processing\n"
     ]
    }
   ],
   "source": [
    "from string import punctuation\n",
    "\n",
    "fin_preds = postprocess_qa_predictions(test, test_features, raw_predictions.predictions[0], raw_predictions.predictions[1])\n",
    "\n",
    "submission = []\n",
    "final_predictions = {}\n",
    "for p1, p2 in fin_preds.items():\n",
    "    p2 = \" \".join(p2.split())\n",
    "    submission.append((p1, p2))\n",
    "    final_predictions.update({p1:p2})\n",
    "\n",
    "    \n",
    "sample = pd.DataFrame(submission, columns=[\"id\", \"PredictionString\"])"
   ]
  },
  {
   "cell_type": "code",
   "execution_count": 12,
   "id": "b598974b",
   "metadata": {
    "execution": {
     "iopub.execute_input": "2021-11-14T16:57:18.317784Z",
     "iopub.status.busy": "2021-11-14T16:57:18.317016Z",
     "iopub.status.idle": "2021-11-14T16:57:18.328039Z",
     "shell.execute_reply": "2021-11-14T16:57:18.328465Z",
     "shell.execute_reply.started": "2021-11-14T16:54:46.853150Z"
    },
    "papermill": {
     "duration": 0.02765,
     "end_time": "2021-11-14T16:57:18.328581",
     "exception": false,
     "start_time": "2021-11-14T16:57:18.300931",
     "status": "completed"
    },
    "tags": []
   },
   "outputs": [
    {
     "data": {
      "text/html": [
       "<div>\n",
       "<style scoped>\n",
       "    .dataframe tbody tr th:only-of-type {\n",
       "        vertical-align: middle;\n",
       "    }\n",
       "\n",
       "    .dataframe tbody tr th {\n",
       "        vertical-align: top;\n",
       "    }\n",
       "\n",
       "    .dataframe thead th {\n",
       "        text-align: right;\n",
       "    }\n",
       "</style>\n",
       "<table border=\"1\" class=\"dataframe\">\n",
       "  <thead>\n",
       "    <tr style=\"text-align: right;\">\n",
       "      <th></th>\n",
       "      <th>id</th>\n",
       "      <th>PredictionString</th>\n",
       "    </tr>\n",
       "  </thead>\n",
       "  <tbody>\n",
       "    <tr>\n",
       "      <th>0</th>\n",
       "      <td>22bff3dec</td>\n",
       "      <td>येलन</td>\n",
       "    </tr>\n",
       "    <tr>\n",
       "      <th>1</th>\n",
       "      <td>282758170</td>\n",
       "      <td>28 नवम्बर 2007</td>\n",
       "    </tr>\n",
       "    <tr>\n",
       "      <th>2</th>\n",
       "      <td>d60987e0e</td>\n",
       "      <td>१२ मार्च १८२४</td>\n",
       "    </tr>\n",
       "    <tr>\n",
       "      <th>3</th>\n",
       "      <td>f99c770dc</td>\n",
       "      <td>13</td>\n",
       "    </tr>\n",
       "    <tr>\n",
       "      <th>4</th>\n",
       "      <td>40dec1964</td>\n",
       "      <td>சுவாமிநாதன் மற்றும் வர்கீஸ் குரியன்</td>\n",
       "    </tr>\n",
       "  </tbody>\n",
       "</table>\n",
       "</div>"
      ],
      "text/plain": [
       "          id                     PredictionString\n",
       "0  22bff3dec                                 येलन\n",
       "1  282758170                       28 नवम्बर 2007\n",
       "2  d60987e0e                        १२ मार्च १८२४\n",
       "3  f99c770dc                                   13\n",
       "4  40dec1964  சுவாமிநாதன் மற்றும் வர்கீஸ் குரியன்"
      ]
     },
     "execution_count": 12,
     "metadata": {},
     "output_type": "execute_result"
    }
   ],
   "source": [
    "sample"
   ]
  },
  {
   "cell_type": "code",
   "execution_count": 13,
   "id": "50f4ce46",
   "metadata": {
    "execution": {
     "iopub.execute_input": "2021-11-14T16:57:18.363915Z",
     "iopub.status.busy": "2021-11-14T16:57:18.363281Z",
     "iopub.status.idle": "2021-11-14T16:57:18.366560Z",
     "shell.execute_reply": "2021-11-14T16:57:18.366982Z",
     "shell.execute_reply.started": "2021-11-14T16:54:46.863417Z"
    },
    "papermill": {
     "duration": 0.025553,
     "end_time": "2021-11-14T16:57:18.367093",
     "exception": false,
     "start_time": "2021-11-14T16:57:18.341540",
     "status": "completed"
    },
    "tags": []
   },
   "outputs": [
    {
     "data": {
      "text/html": [
       "<div>\n",
       "<style scoped>\n",
       "    .dataframe tbody tr th:only-of-type {\n",
       "        vertical-align: middle;\n",
       "    }\n",
       "\n",
       "    .dataframe tbody tr th {\n",
       "        vertical-align: top;\n",
       "    }\n",
       "\n",
       "    .dataframe thead th {\n",
       "        text-align: right;\n",
       "    }\n",
       "</style>\n",
       "<table border=\"1\" class=\"dataframe\">\n",
       "  <thead>\n",
       "    <tr style=\"text-align: right;\">\n",
       "      <th></th>\n",
       "      <th>id</th>\n",
       "      <th>PredictionString</th>\n",
       "    </tr>\n",
       "  </thead>\n",
       "  <tbody>\n",
       "    <tr>\n",
       "      <th>0</th>\n",
       "      <td>22bff3dec</td>\n",
       "      <td>येलन</td>\n",
       "    </tr>\n",
       "    <tr>\n",
       "      <th>1</th>\n",
       "      <td>282758170</td>\n",
       "      <td>28 नवम्बर 2007</td>\n",
       "    </tr>\n",
       "    <tr>\n",
       "      <th>2</th>\n",
       "      <td>d60987e0e</td>\n",
       "      <td>१२ मार्च १८२४</td>\n",
       "    </tr>\n",
       "    <tr>\n",
       "      <th>3</th>\n",
       "      <td>f99c770dc</td>\n",
       "      <td>13</td>\n",
       "    </tr>\n",
       "    <tr>\n",
       "      <th>4</th>\n",
       "      <td>40dec1964</td>\n",
       "      <td>சுவாமிநாதன் மற்றும் வர்கீஸ் குரியன்</td>\n",
       "    </tr>\n",
       "  </tbody>\n",
       "</table>\n",
       "</div>"
      ],
      "text/plain": [
       "          id                     PredictionString\n",
       "0  22bff3dec                                 येलन\n",
       "1  282758170                       28 नवम्बर 2007\n",
       "2  d60987e0e                        १२ मार्च १८२४\n",
       "3  f99c770dc                                   13\n",
       "4  40dec1964  சுவாமிநாதன் மற்றும் வர்கீஸ் குரியன்"
      ]
     },
     "execution_count": 13,
     "metadata": {},
     "output_type": "execute_result"
    }
   ],
   "source": [
    "sub_data['PredictionString'] = sub_data['id'].apply(lambda r: final_predictions.get(r))\n",
    "sub_data.head()"
   ]
  },
  {
   "cell_type": "code",
   "execution_count": 14,
   "id": "c0885668",
   "metadata": {
    "execution": {
     "iopub.execute_input": "2021-11-14T16:57:18.397425Z",
     "iopub.status.busy": "2021-11-14T16:57:18.396932Z",
     "iopub.status.idle": "2021-11-14T16:57:18.402536Z",
     "shell.execute_reply": "2021-11-14T16:57:18.402104Z",
     "shell.execute_reply.started": "2021-11-14T16:54:46.877857Z"
    },
    "papermill": {
     "duration": 0.022365,
     "end_time": "2021-11-14T16:57:18.402635",
     "exception": false,
     "start_time": "2021-11-14T16:57:18.380270",
     "status": "completed"
    },
    "tags": []
   },
   "outputs": [],
   "source": [
    "sub_data.to_csv('submission.csv', index=False)"
   ]
  },
  {
   "cell_type": "code",
   "execution_count": null,
   "id": "4024db2c",
   "metadata": {
    "papermill": {
     "duration": 0.013248,
     "end_time": "2021-11-14T16:57:18.429375",
     "exception": false,
     "start_time": "2021-11-14T16:57:18.416127",
     "status": "completed"
    },
    "tags": []
   },
   "outputs": [],
   "source": []
  },
  {
   "cell_type": "code",
   "execution_count": null,
   "id": "d68a0bdc",
   "metadata": {
    "papermill": {
     "duration": 0.013047,
     "end_time": "2021-11-14T16:57:18.455691",
     "exception": false,
     "start_time": "2021-11-14T16:57:18.442644",
     "status": "completed"
    },
    "tags": []
   },
   "outputs": [],
   "source": []
  }
 ],
 "metadata": {
  "kernelspec": {
   "display_name": "Python 3",
   "language": "python",
   "name": "python3"
  },
  "language_info": {
   "codemirror_mode": {
    "name": "ipython",
    "version": 3
   },
   "file_extension": ".py",
   "mimetype": "text/x-python",
   "name": "python",
   "nbconvert_exporter": "python",
   "pygments_lexer": "ipython3",
   "version": "3.7.10"
  },
  "papermill": {
   "default_parameters": {},
   "duration": 59.339698,
   "end_time": "2021-11-14T16:57:21.939959",
   "environment_variables": {},
   "exception": null,
   "input_path": "__notebook__.ipynb",
   "output_path": "__notebook__.ipynb",
   "parameters": {},
   "start_time": "2021-11-14T16:56:22.600261",
   "version": "2.3.3"
  }
 },
 "nbformat": 4,
 "nbformat_minor": 5
}
